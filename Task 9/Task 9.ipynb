{
 "cells": [
  {
   "cell_type": "code",
   "execution_count": 1,
   "id": "7fce032b",
   "metadata": {},
   "outputs": [],
   "source": [
    "import numpy as np"
   ]
  },
  {
   "cell_type": "code",
   "execution_count": 2,
   "id": "8e430628",
   "metadata": {},
   "outputs": [
    {
     "name": "stdout",
     "output_type": "stream",
     "text": [
      "[[9. 0. 0.]\n",
      " [0. 9. 0.]\n",
      " [0. 0. 9.]]\n"
     ]
    }
   ],
   "source": [
    "print(np.identity(3)*9)"
   ]
  },
  {
   "cell_type": "code",
   "execution_count": 3,
   "id": "3aa30c69",
   "metadata": {},
   "outputs": [
    {
     "name": "stdout",
     "output_type": "stream",
     "text": [
      "12.390227771353556\n",
      "21.60977222864644\n",
      "[ 2  4  6  8 10 12 14 16 18 20 22 24 26 28 30 32]\n",
      "[False False False False False False  True  True  True  True False False\n",
      " False False False False]\n",
      "[14 16 18 20]\n"
     ]
    }
   ],
   "source": [
    "arr = np.array(range(1,33))\n",
    "even_arr = arr[arr % 2 == 0]\n",
    "mean = np.mean(even_arr)\n",
    "std = np.std(even_arr)\n",
    "half_std = 0.5 * std\n",
    "lower_bound = mean - half_std\n",
    "upper_bound = mean + half_std\n",
    "filtered_values = (even_arr >= lower_bound) & (even_arr <= upper_bound)\n",
    "print(lower_bound)\n",
    "print(upper_bound)\n",
    "print(even_arr)\n",
    "print(filtered_values)\n",
    "print(even_arr[filtered_values])"
   ]
  },
  {
   "cell_type": "code",
   "execution_count": 4,
   "id": "65c0b25f",
   "metadata": {},
   "outputs": [
    {
     "name": "stdout",
     "output_type": "stream",
     "text": [
      "[[0 0 0 0 0 0 0 0 0]\n",
      " [0 0 0 0 0 0 0 0 0]\n",
      " [0 0 0 0 0 0 0 0 0]\n",
      " [0 0 0 0 0 0 0 0 0]\n",
      " [0 0 0 0 0 0 0 0 0]\n",
      " [0 0 0 0 0 0 0 0 0]\n",
      " [0 0 0 0 0 0 0 0 0]\n",
      " [0 0 0 0 0 0 0 0 0]\n",
      " [0 0 0 0 0 0 0 0 0]]\n"
     ]
    }
   ],
   "source": [
    "print(np.zeros((9,9),dtype = int))"
   ]
  },
  {
   "cell_type": "code",
   "execution_count": 17,
   "id": "0e38c93b",
   "metadata": {},
   "outputs": [
    {
     "name": "stdout",
     "output_type": "stream",
     "text": [
      "Enter the value of n: 5\n",
      "Resultant array: \n",
      "[[1 2 3 4 5]\n",
      " [1 2 3 4 5]\n",
      " [1 2 3 4 5]\n",
      " [1 2 3 4 5]\n",
      " [1 2 3 4 5]]\n"
     ]
    }
   ],
   "source": [
    "n = int(input(\"Enter the value of n: \"))\n",
    "result = np.ones((n, 1), dtype = int) * np.arange(1, n + 1)\n",
    "print(\"Resultant array: \")\n",
    "print(result)"
   ]
  },
  {
   "cell_type": "code",
   "execution_count": 12,
   "id": "9ef3d46a",
   "metadata": {},
   "outputs": [
    {
     "name": "stdout",
     "output_type": "stream",
     "text": [
      "2 2\n",
      "C M\n",
      "Y Y\n",
      "#Color\n"
     ]
    }
   ],
   "source": [
    "matrix_dimention = input()\n",
    "matrix_dimentions= matrix_dimention.split()\n",
    "rows =[]\n",
    "for i in range(int(matrix_dimentions[0])):\n",
    "    row = input().split()\n",
    "    row_array = np.array(row)\n",
    "    if not row_array.size == int(matrix_dimentions[1]):\n",
    "        print(\"invalid number of columns..\")\n",
    "        continue  \n",
    "    rows.append(row_array)\n",
    "    array = np.array(rows)\n",
    "colored = np.where(((array == 'C') | (array == 'M')|(array == 'Y')))\n",
    "if array[colored].size == 0:\n",
    "    print(\"#Black&White\")\n",
    "else:\n",
    "    print(\"#Color\")"
   ]
  },
  {
   "cell_type": "code",
   "execution_count": 14,
   "id": "44604dcc",
   "metadata": {},
   "outputs": [
    {
     "name": "stdout",
     "output_type": "stream",
     "text": [
      "3 2\n",
      "W W\n",
      "W W\n",
      "B B\n",
      "#Black&White\n"
     ]
    }
   ],
   "source": [
    "matrix_dimention = input()\n",
    "matrix_dimentions= matrix_dimention.split()\n",
    "rows =[]\n",
    "for i in range(int(matrix_dimentions[0])):\n",
    "    row = input().split()\n",
    "    row_array = np.array(row)\n",
    "    if not row_array.size == int(matrix_dimentions[1]):\n",
    "        print(\"invalid number of columns..\")\n",
    "        continue  \n",
    "    rows.append(row_array)\n",
    "    array = np.array(rows)\n",
    "colored = np.where(((array == 'C') | (array == 'M')|(array == 'Y')))\n",
    "if array[colored].size == 0:\n",
    "    print(\"#Black&White\")\n",
    "else:\n",
    "    print(\"#Color\")"
   ]
  },
  {
   "cell_type": "code",
   "execution_count": 15,
   "id": "ab563037",
   "metadata": {},
   "outputs": [
    {
     "name": "stdout",
     "output_type": "stream",
     "text": [
      "4\n",
      "4 1 2 10\n",
      "12 5\n"
     ]
    }
   ],
   "source": [
    "def game_score(n,cards):\n",
    "    sereja_score = 0\n",
    "    dima_score = 0\n",
    "    left = 0\n",
    "    right = n-1\n",
    "    \n",
    "    while left <= right:\n",
    "        if cards[left] > cards[right]:\n",
    "            sereja_score += cards[left]\n",
    "            left += 1\n",
    "        else:\n",
    "            sereja_score += cards[right]\n",
    "            right -= 1\n",
    "            \n",
    "        if cards[left] > cards[right]:\n",
    "            dima_score += cards[left]\n",
    "            left += 1\n",
    "        else:\n",
    "            dima_score += cards[right]\n",
    "            right -=1\n",
    "\n",
    "        if left > right:\n",
    "            break\n",
    "    return sereja_score, dima_score\n",
    "\n",
    "\n",
    "n = int(input())\n",
    "cards = np.array(list(map(int,input().split())))\n",
    "sereja_score, dima_score = game_score(n, cards)\n",
    "print(sereja_score, dima_score)"
   ]
  },
  {
   "cell_type": "code",
   "execution_count": null,
   "id": "fdf29dbb",
   "metadata": {},
   "outputs": [],
   "source": []
  }
 ],
 "metadata": {
  "kernelspec": {
   "display_name": "Python 3 (ipykernel)",
   "language": "python",
   "name": "python3"
  },
  "language_info": {
   "codemirror_mode": {
    "name": "ipython",
    "version": 3
   },
   "file_extension": ".py",
   "mimetype": "text/x-python",
   "name": "python",
   "nbconvert_exporter": "python",
   "pygments_lexer": "ipython3",
   "version": "3.9.12"
  }
 },
 "nbformat": 4,
 "nbformat_minor": 5
}

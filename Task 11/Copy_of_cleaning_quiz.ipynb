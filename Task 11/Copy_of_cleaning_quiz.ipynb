{
  "cells": [
    {
      "cell_type": "markdown",
      "metadata": {
        "id": "E2e-PMGNhjdd"
      },
      "source": [
        "# Cleaning Practice\n",
        "Let's first practice handling missing values and duplicate data using the `cancer_data_means.csv` file."
      ]
    },
    {
      "cell_type": "code",
      "execution_count": null,
      "metadata": {
        "id": "mnTmEJ-chjde"
      },
      "outputs": [],
      "source": [
        "#import libraries and assign cancer_data_means.csv to a variable\n",
        "import pandas as pd\n",
        "import numpy as np"
      ]
    },
    {
      "cell_type": "code",
      "execution_count": null,
      "metadata": {
        "id": "5VlaNFwyhjdf"
      },
      "outputs": [],
      "source": [
        "# check which columns have missing values\n",
        "\n"
      ]
    },
    {
      "cell_type": "code",
      "execution_count": null,
      "metadata": {
        "id": "ljA7IRtfhjdg"
      },
      "outputs": [],
      "source": [
        "# confirm your correction"
      ]
    },
    {
      "cell_type": "code",
      "execution_count": null,
      "metadata": {
        "id": "HygBAaTPhjdg"
      },
      "outputs": [],
      "source": [
        "# how many duplicates are there ?\n"
      ]
    },
    {
      "cell_type": "code",
      "execution_count": null,
      "metadata": {
        "id": "pwQMybZ4hjdg"
      },
      "outputs": [],
      "source": [
        "# drop duplicates\n",
        "\n"
      ]
    },
    {
      "cell_type": "code",
      "execution_count": null,
      "metadata": {
        "id": "iibQDizlhjdg"
      },
      "outputs": [],
      "source": [
        "# confirm correction by rechecking for duplicates in the data\n"
      ]
    },
    {
      "cell_type": "markdown",
      "metadata": {
        "id": "_-JPrvVChjdg"
      },
      "source": [
        "## Renaming Columns\n",
        "Since we also previously changed our dataset to only include means of tumor features, the \"_mean\" at the end of each feature seems unnecessary. It just takes extra time to type in our analysis later. Rename the columns of the dataframe to remove \"_mean\"."
      ]
    },
    {
      "cell_type": "code",
      "execution_count": null,
      "metadata": {
        "id": "11Gq4X4vhjdg"
      },
      "outputs": [],
      "source": [
        "# rename the columns of the dataframe (remove _mean from the name of each column if found)\n"
      ]
    },
    {
      "cell_type": "code",
      "execution_count": null,
      "metadata": {
        "scrolled": false,
        "id": "MrZfdsSZhjdh"
      },
      "outputs": [],
      "source": [
        "# display first few rows of the dataframe to confirm changes\n"
      ]
    },
    {
      "cell_type": "code",
      "execution_count": null,
      "metadata": {
        "id": "xMU2Oerihjdh"
      },
      "outputs": [],
      "source": [
        "# save this for later as a csv file named \"cancer_data_edited.csv\" and set indexing to false (why ??)\n"
      ]
    },
    {
      "cell_type": "code",
      "execution_count": null,
      "metadata": {
        "id": "UGvMijMBhjdh"
      },
      "outputs": [],
      "source": []
    }
  ],
  "metadata": {
    "kernelspec": {
      "display_name": "Python 3 (ipykernel)",
      "language": "python",
      "name": "python3"
    },
    "language_info": {
      "codemirror_mode": {
        "name": "ipython",
        "version": 3
      },
      "file_extension": ".py",
      "mimetype": "text/x-python",
      "name": "python",
      "nbconvert_exporter": "python",
      "pygments_lexer": "ipython3",
      "version": "3.9.13"
    },
    "colab": {
      "provenance": []
    }
  },
  "nbformat": 4,
  "nbformat_minor": 0
}